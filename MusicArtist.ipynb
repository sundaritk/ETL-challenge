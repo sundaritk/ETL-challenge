{
 "cells": [
  {
   "cell_type": "code",
   "execution_count": null,
   "metadata": {},
   "outputs": [],
   "source": [
    "# Dependencies and Setup\n",
    "import pandas as pd\n",
    "from sqlalchemy import create_engine\n",
    "import numpy as np\n",
    "import re\n",
    "from itertools import compress\n",
    "from functools import reduce\n",
    "import operator"
   ]
  },
  {
   "cell_type": "code",
   "execution_count": null,
   "metadata": {},
   "outputs": [],
   "source": [
    "#Reading input file for awards\n",
    "grammy_file = \"Resources/the_grammy_awards.csv\"\n",
    "grammy_data_df = pd.read_csv(grammy_file)\n",
    "#Filtering records for 2010 to 2019\n",
    "grammy_accolades_df=grammy_data_df[grammy_data_df['year'].between(2010,2019)]\n",
    "grammy_accolades_df=grammy_accolades_df.dropna()\n",
    "grammy_accolades_df=grammy_accolades_df.reset_index(drop=True)\n",
    "grammy_accolades_df.head()"
   ]
  },
  {
   "cell_type": "code",
   "execution_count": null,
   "metadata": {},
   "outputs": [],
   "source": [
    "#Reading input file for Songs\n",
    "tsongs_file = \"Resources/top_songs.csv\"\n",
    "tsongs_data_df = pd.read_csv(tsongs_file,encoding='cp1252')\n",
    "#renaming column for further processing\n",
    "tsongs_data_df=tsongs_data_df.rename(columns={\"top genre\":\"genre\"})\n",
    "#creating dataframe with required columns\n",
    "tsongs_data_clean_df=tsongs_data_df[['title','artist','genre','year']]\n",
    "tsongs_data_clean_df.head()"
   ]
  },
  {
   "cell_type": "code",
   "execution_count": null,
   "metadata": {},
   "outputs": [],
   "source": [
    "# creating artist dataframe \n",
    "artist=tsongs_data_df.artist.unique()\n",
    "artist_df=pd.DataFrame(artist)\n",
    "artist_df['artist_id']=pd.Series(np.arange(1,len(artist_df)+1,1))\n",
    "artist_df=artist_df.rename(columns={0: \"artist\"})\n",
    "artist_df.head()"
   ]
  },
  {
   "cell_type": "code",
   "execution_count": null,
   "metadata": {},
   "outputs": [],
   "source": [
    "# Creating Genre dataframe\n",
    "genre=tsongs_data_df.genre.unique()\n",
    "genre_df=pd.DataFrame(genre)\n",
    "genre_df['gnere_id']=pd.Series(np.arange(1,len(artist_df)+1,1))\n",
    "genre_df=genre_df.rename(columns={0: \"genre\"})\n",
    "genre_df.head()"
   ]
  },
  {
   "cell_type": "code",
   "execution_count": null,
   "metadata": {},
   "outputs": [],
   "source": [
    "#Looping to get only the artists who has top songs\n",
    "index_result=[]\n",
    "artist_result=[]\n",
    "song_result=[]\n",
    "try:\n",
    "    for songs_data in range(0,len(artist_df['artist'])):\n",
    "        \n",
    "        artist_accolade_df=grammy_accolades_df['workers'].str.contains(artist_df['artist'][songs_data], flags=re.IGNORECASE, regex=True)\n",
    "        res = list(compress(range(len(artist_accolade_df )), artist_accolade_df))\n",
    "        #loop to map artist and worker\n",
    "        for row in range(0,len(res)):\n",
    "            artist_result.append(artist_df['artist_id'][songs_data])\n",
    "            index_result.append(res[row])\n",
    "except:\n",
    "    print('Not Found')\n",
    "#reseting index\n",
    "accolades_songs_df=grammy_accolades_df.iloc[index_result].reset_index(drop=True)\n",
    "#Adding artist id in the dataset\n",
    "accolades_songs_df['artist_id']=artist_result\n",
    "accolades_songs_df.head()"
   ]
  },
  {
   "cell_type": "code",
   "execution_count": null,
   "metadata": {},
   "outputs": [],
   "source": [
    "# tsongs_data_clean_df['artist_id']=\"\"\n",
    "\n",
    "for s_artist_data in range(0,len(tsongs_data_clean_df['artist'])):\n",
    "    for artist_data in range(0,len(artist_df['artist'])):\n",
    "        if tsongs_data_clean_df['artist'][s_artist_data]==artist_df['artist'][artist_data]:\n",
    "            tsongs_data_clean_df['artist_id']=artist_df['artist_id']"
   ]
  },
  {
   "cell_type": "code",
   "execution_count": null,
   "metadata": {},
   "outputs": [],
   "source": [
    "t_artist_result=[]\n",
    "t_index_result=[]\n",
    "for songs_data in range(0,len(artist_df['artist'])):\n",
    "    song_accolade_df=tsongs_data_clean_df['artist'].str.contains(artist_df['artist'][songs_data], flags=re.IGNORECASE, regex=True)\n",
    "    res = list(compress(range(len(song_accolade_df )), song_accolade_df))\n",
    "        #loop to map artist and worker\n",
    "    for row in range(0,len(res)):\n",
    "        t_artist_result.append(artist_df['artist_id'][songs_data])\n",
    "        t_index_result.append(res[row])"
   ]
  },
  {
   "cell_type": "code",
   "execution_count": null,
   "metadata": {},
   "outputs": [],
   "source": [
    "# accolades_songs_df=tsongs_data_clean_df.iloc[t_index_result].reset_index(drop=True)\n",
    "# #Adding artist id in the dataset\n",
    "# accolades_songs_df['artist_id']=artist_result\n",
    "# accolades_songs_df.head()\n",
    "tsongs_data_clean_df=tsongs_data_clean_df.iloc[t_index_result].reset_index(drop=True)\n",
    "tsongs_data_clean_df['aid']=t_artist_result"
   ]
  },
  {
   "cell_type": "code",
   "execution_count": null,
   "metadata": {},
   "outputs": [],
   "source": [
    "tsongs_data_clean_df"
   ]
  },
  {
   "cell_type": "code",
   "execution_count": null,
   "metadata": {},
   "outputs": [],
   "source": []
  }
 ],
 "metadata": {
  "kernelspec": {
   "display_name": "Python 3",
   "language": "python",
   "name": "python3"
  },
  "language_info": {
   "codemirror_mode": {
    "name": "ipython",
    "version": 3
   },
   "file_extension": ".py",
   "mimetype": "text/x-python",
   "name": "python",
   "nbconvert_exporter": "python",
   "pygments_lexer": "ipython3",
   "version": "3.7.4"
  }
 },
 "nbformat": 4,
 "nbformat_minor": 4
}
